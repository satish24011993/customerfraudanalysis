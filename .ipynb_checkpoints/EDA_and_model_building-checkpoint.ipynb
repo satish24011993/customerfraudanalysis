{
 "cells": [
  {
   "cell_type": "code",
   "execution_count": 1,
   "metadata": {},
   "outputs": [],
   "source": [
    "# Basic setup\n",
    "import pandas as pd\n",
    "import numpy as np\n",
    "\n",
    "%matplotlib inline\n",
    "import matplotlib as mpl\n",
    "import matplotlib.pyplot as plt\n",
    "mpl.rc('axes', labelsize=14)\n",
    "mpl.rc('xtick', labelsize=12)\n",
    "mpl.rc('ytick', labelsize=12)\n",
    "\n",
    "# Ignore useless warnings (see SciPy issue #5998)\n",
    "import warnings\n",
    "warnings.filterwarnings(action=\"ignore\", message=\"^internal gelsd\")"
   ]
  },
  {
   "cell_type": "markdown",
   "metadata": {},
   "source": [
    "### Loading data into workspace"
   ]
  },
  {
   "cell_type": "code",
   "execution_count": 2,
   "metadata": {},
   "outputs": [],
   "source": [
    "customers =  pd.read_csv('customer_data.csv', header = 0)\n",
    "orders = pd.read_csv('orders_data.csv', header = 0)\n",
    "payments = pd.read_csv('payments_data.csv', header = 0)\n",
    "transactions = pd.read_csv('transaction.csv', header = 0)"
   ]
  },
  {
   "cell_type": "code",
   "execution_count": 3,
   "metadata": {},
   "outputs": [
    {
     "data": {
      "text/html": [
       "<div>\n",
       "<style scoped>\n",
       "    .dataframe tbody tr th:only-of-type {\n",
       "        vertical-align: middle;\n",
       "    }\n",
       "\n",
       "    .dataframe tbody tr th {\n",
       "        vertical-align: top;\n",
       "    }\n",
       "\n",
       "    .dataframe thead th {\n",
       "        text-align: right;\n",
       "    }\n",
       "</style>\n",
       "<table border=\"1\" class=\"dataframe\">\n",
       "  <thead>\n",
       "    <tr style=\"text-align: right;\">\n",
       "      <th></th>\n",
       "      <th>fraudulent</th>\n",
       "      <th>customerEmail</th>\n",
       "      <th>customerPhone</th>\n",
       "      <th>customerDevice</th>\n",
       "      <th>customerIPAddress</th>\n",
       "      <th>customerBillingAddress</th>\n",
       "    </tr>\n",
       "  </thead>\n",
       "  <tbody>\n",
       "    <tr>\n",
       "      <td>0</td>\n",
       "      <td>False</td>\n",
       "      <td>josephhoward@yahoo.com</td>\n",
       "      <td>400-108-5415</td>\n",
       "      <td>yyeiaxpltf82440jnb3v</td>\n",
       "      <td>8.129.104.40</td>\n",
       "      <td>5493 Jones Islands\\nBrownside, CA 51896</td>\n",
       "    </tr>\n",
       "    <tr>\n",
       "      <td>1</td>\n",
       "      <td>True</td>\n",
       "      <td>evansjeffery@yahoo.com</td>\n",
       "      <td>1-788-091-7546</td>\n",
       "      <td>r0jpm7xaeqqa3kr6mzum</td>\n",
       "      <td>219.173.211.202</td>\n",
       "      <td>356 Elizabeth Inlet Suite 120\\nPort Joshuabury...</td>\n",
       "    </tr>\n",
       "    <tr>\n",
       "      <td>2</td>\n",
       "      <td>False</td>\n",
       "      <td>andersonwilliam@yahoo.com</td>\n",
       "      <td>024.420.0375</td>\n",
       "      <td>4m7h5ipl1shyavt6vv2r</td>\n",
       "      <td>67b7:3db8:67e0:3bea:b9d0:90c1:2b60:b9f0</td>\n",
       "      <td>8478 Sean Ridges Apt. 441\\nDavisberg, PR 72250</td>\n",
       "    </tr>\n",
       "    <tr>\n",
       "      <td>3</td>\n",
       "      <td>False</td>\n",
       "      <td>rubenjuarez@yahoo.com</td>\n",
       "      <td>670.664.8168x94985</td>\n",
       "      <td>slovx60t0i558may4ks0</td>\n",
       "      <td>95de:8565:5a66:792c:26e0:6cfb:7d87:11af</td>\n",
       "      <td>7769 Elizabeth Bridge Apt. 343\\nNortonstad, FM...</td>\n",
       "    </tr>\n",
       "    <tr>\n",
       "      <td>4</td>\n",
       "      <td>True</td>\n",
       "      <td>uchen@malone.com</td>\n",
       "      <td>1-981-877-0870</td>\n",
       "      <td>j0pd24k5h8dl2fqu0cz4</td>\n",
       "      <td>196.89.235.192</td>\n",
       "      <td>148 Russell Lodge Apt. 445\\nPort Jenniferside,...</td>\n",
       "    </tr>\n",
       "  </tbody>\n",
       "</table>\n",
       "</div>"
      ],
      "text/plain": [
       "   fraudulent              customerEmail       customerPhone  \\\n",
       "0       False     josephhoward@yahoo.com        400-108-5415   \n",
       "1        True     evansjeffery@yahoo.com      1-788-091-7546   \n",
       "2       False  andersonwilliam@yahoo.com        024.420.0375   \n",
       "3       False      rubenjuarez@yahoo.com  670.664.8168x94985   \n",
       "4        True           uchen@malone.com      1-981-877-0870   \n",
       "\n",
       "         customerDevice                        customerIPAddress  \\\n",
       "0  yyeiaxpltf82440jnb3v                             8.129.104.40   \n",
       "1  r0jpm7xaeqqa3kr6mzum                          219.173.211.202   \n",
       "2  4m7h5ipl1shyavt6vv2r  67b7:3db8:67e0:3bea:b9d0:90c1:2b60:b9f0   \n",
       "3  slovx60t0i558may4ks0  95de:8565:5a66:792c:26e0:6cfb:7d87:11af   \n",
       "4  j0pd24k5h8dl2fqu0cz4                           196.89.235.192   \n",
       "\n",
       "                              customerBillingAddress  \n",
       "0            5493 Jones Islands\\nBrownside, CA 51896  \n",
       "1  356 Elizabeth Inlet Suite 120\\nPort Joshuabury...  \n",
       "2     8478 Sean Ridges Apt. 441\\nDavisberg, PR 72250  \n",
       "3  7769 Elizabeth Bridge Apt. 343\\nNortonstad, FM...  \n",
       "4  148 Russell Lodge Apt. 445\\nPort Jenniferside,...  "
      ]
     },
     "execution_count": 3,
     "metadata": {},
     "output_type": "execute_result"
    }
   ],
   "source": [
    "customers.head()"
   ]
  },
  {
   "cell_type": "code",
   "execution_count": 4,
   "metadata": {},
   "outputs": [
    {
     "data": {
      "text/html": [
       "<div>\n",
       "<style scoped>\n",
       "    .dataframe tbody tr th:only-of-type {\n",
       "        vertical-align: middle;\n",
       "    }\n",
       "\n",
       "    .dataframe tbody tr th {\n",
       "        vertical-align: top;\n",
       "    }\n",
       "\n",
       "    .dataframe thead th {\n",
       "        text-align: right;\n",
       "    }\n",
       "</style>\n",
       "<table border=\"1\" class=\"dataframe\">\n",
       "  <thead>\n",
       "    <tr style=\"text-align: right;\">\n",
       "      <th></th>\n",
       "      <th>customerEmail</th>\n",
       "      <th>orderId</th>\n",
       "      <th>orderAmount</th>\n",
       "      <th>orderState</th>\n",
       "      <th>orderShippingAddress</th>\n",
       "    </tr>\n",
       "  </thead>\n",
       "  <tbody>\n",
       "    <tr>\n",
       "      <td>0</td>\n",
       "      <td>josephhoward@yahoo.com</td>\n",
       "      <td>vjbdvd</td>\n",
       "      <td>18</td>\n",
       "      <td>pending</td>\n",
       "      <td>5493 Jones Islands\\nBrownside, CA 51896</td>\n",
       "    </tr>\n",
       "    <tr>\n",
       "      <td>1</td>\n",
       "      <td>josephhoward@yahoo.com</td>\n",
       "      <td>yp6x27</td>\n",
       "      <td>26</td>\n",
       "      <td>fulfilled</td>\n",
       "      <td>5493 Jones Islands\\nBrownside, CA 51896</td>\n",
       "    </tr>\n",
       "    <tr>\n",
       "      <td>2</td>\n",
       "      <td>josephhoward@yahoo.com</td>\n",
       "      <td>vjbdvd</td>\n",
       "      <td>18</td>\n",
       "      <td>pending</td>\n",
       "      <td>5493 Jones Islands\\nBrownside, CA 51896</td>\n",
       "    </tr>\n",
       "    <tr>\n",
       "      <td>3</td>\n",
       "      <td>josephhoward@yahoo.com</td>\n",
       "      <td>yp6x27</td>\n",
       "      <td>26</td>\n",
       "      <td>fulfilled</td>\n",
       "      <td>5493 Jones Islands\\nBrownside, CA 51896</td>\n",
       "    </tr>\n",
       "    <tr>\n",
       "      <td>4</td>\n",
       "      <td>evansjeffery@yahoo.com</td>\n",
       "      <td>nlghpa</td>\n",
       "      <td>45</td>\n",
       "      <td>fulfilled</td>\n",
       "      <td>898 Henry Ports\\nNew Keithview, CA 95893-2497</td>\n",
       "    </tr>\n",
       "  </tbody>\n",
       "</table>\n",
       "</div>"
      ],
      "text/plain": [
       "            customerEmail orderId  orderAmount orderState  \\\n",
       "0  josephhoward@yahoo.com  vjbdvd           18    pending   \n",
       "1  josephhoward@yahoo.com  yp6x27           26  fulfilled   \n",
       "2  josephhoward@yahoo.com  vjbdvd           18    pending   \n",
       "3  josephhoward@yahoo.com  yp6x27           26  fulfilled   \n",
       "4  evansjeffery@yahoo.com  nlghpa           45  fulfilled   \n",
       "\n",
       "                            orderShippingAddress  \n",
       "0        5493 Jones Islands\\nBrownside, CA 51896  \n",
       "1        5493 Jones Islands\\nBrownside, CA 51896  \n",
       "2        5493 Jones Islands\\nBrownside, CA 51896  \n",
       "3        5493 Jones Islands\\nBrownside, CA 51896  \n",
       "4  898 Henry Ports\\nNew Keithview, CA 95893-2497  "
      ]
     },
     "execution_count": 4,
     "metadata": {},
     "output_type": "execute_result"
    }
   ],
   "source": [
    "orders.head()"
   ]
  },
  {
   "cell_type": "code",
   "execution_count": 5,
   "metadata": {},
   "outputs": [
    {
     "data": {
      "text/plain": [
       "(342, 6)"
      ]
     },
     "execution_count": 5,
     "metadata": {},
     "output_type": "execute_result"
    }
   ],
   "source": [
    "payments.shape"
   ]
  },
  {
   "cell_type": "code",
   "execution_count": 6,
   "metadata": {},
   "outputs": [
    {
     "data": {
      "text/html": [
       "<div>\n",
       "<style scoped>\n",
       "    .dataframe tbody tr th:only-of-type {\n",
       "        vertical-align: middle;\n",
       "    }\n",
       "\n",
       "    .dataframe tbody tr th {\n",
       "        vertical-align: top;\n",
       "    }\n",
       "\n",
       "    .dataframe thead th {\n",
       "        text-align: right;\n",
       "    }\n",
       "</style>\n",
       "<table border=\"1\" class=\"dataframe\">\n",
       "  <thead>\n",
       "    <tr style=\"text-align: right;\">\n",
       "      <th></th>\n",
       "      <th>customerEmail</th>\n",
       "      <th>transactionId</th>\n",
       "      <th>orderId</th>\n",
       "      <th>paymentMethodId</th>\n",
       "      <th>transactionAmount</th>\n",
       "      <th>transactionFailed</th>\n",
       "    </tr>\n",
       "  </thead>\n",
       "  <tbody>\n",
       "    <tr>\n",
       "      <td>0</td>\n",
       "      <td>josephhoward@yahoo.com</td>\n",
       "      <td>a9lcj51r</td>\n",
       "      <td>vjbdvd</td>\n",
       "      <td>wt07xm68b</td>\n",
       "      <td>18</td>\n",
       "      <td>False</td>\n",
       "    </tr>\n",
       "    <tr>\n",
       "      <td>1</td>\n",
       "      <td>josephhoward@yahoo.com</td>\n",
       "      <td>y4wcv03i</td>\n",
       "      <td>yp6x27</td>\n",
       "      <td>wt07xm68b</td>\n",
       "      <td>26</td>\n",
       "      <td>False</td>\n",
       "    </tr>\n",
       "    <tr>\n",
       "      <td>2</td>\n",
       "      <td>josephhoward@yahoo.com</td>\n",
       "      <td>a9lcj51r</td>\n",
       "      <td>vjbdvd</td>\n",
       "      <td>wt07xm68b</td>\n",
       "      <td>18</td>\n",
       "      <td>False</td>\n",
       "    </tr>\n",
       "    <tr>\n",
       "      <td>3</td>\n",
       "      <td>josephhoward@yahoo.com</td>\n",
       "      <td>y4wcv03i</td>\n",
       "      <td>yp6x27</td>\n",
       "      <td>wt07xm68b</td>\n",
       "      <td>26</td>\n",
       "      <td>False</td>\n",
       "    </tr>\n",
       "    <tr>\n",
       "      <td>4</td>\n",
       "      <td>evansjeffery@yahoo.com</td>\n",
       "      <td>5mi94sfw</td>\n",
       "      <td>nlghpa</td>\n",
       "      <td>41ug157xz</td>\n",
       "      <td>45</td>\n",
       "      <td>False</td>\n",
       "    </tr>\n",
       "    <tr>\n",
       "      <td>...</td>\n",
       "      <td>...</td>\n",
       "      <td>...</td>\n",
       "      <td>...</td>\n",
       "      <td>...</td>\n",
       "      <td>...</td>\n",
       "      <td>...</td>\n",
       "    </tr>\n",
       "    <tr>\n",
       "      <td>620</td>\n",
       "      <td>dawn05@tucker-brown.com</td>\n",
       "      <td>7yilsi1o</td>\n",
       "      <td>1bubxa</td>\n",
       "      <td>7yen1m1q8</td>\n",
       "      <td>25</td>\n",
       "      <td>True</td>\n",
       "    </tr>\n",
       "    <tr>\n",
       "      <td>621</td>\n",
       "      <td>dawn05@tucker-brown.com</td>\n",
       "      <td>wmh52bns</td>\n",
       "      <td>1bubxa</td>\n",
       "      <td>3zmkegkb8</td>\n",
       "      <td>25</td>\n",
       "      <td>True</td>\n",
       "    </tr>\n",
       "    <tr>\n",
       "      <td>622</td>\n",
       "      <td>dawn05@tucker-brown.com</td>\n",
       "      <td>c82k5bcv</td>\n",
       "      <td>1bubxa</td>\n",
       "      <td>7yen1m1q8</td>\n",
       "      <td>25</td>\n",
       "      <td>False</td>\n",
       "    </tr>\n",
       "    <tr>\n",
       "      <td>623</td>\n",
       "      <td>dawn05@tucker-brown.com</td>\n",
       "      <td>xdw33hfp</td>\n",
       "      <td>p0gdbf</td>\n",
       "      <td>3zmkegkb8</td>\n",
       "      <td>19</td>\n",
       "      <td>False</td>\n",
       "    </tr>\n",
       "    <tr>\n",
       "      <td>624</td>\n",
       "      <td>dawn05@tucker-brown.com</td>\n",
       "      <td>wgmajf82</td>\n",
       "      <td>5lmvrj</td>\n",
       "      <td>f0xnu5om9</td>\n",
       "      <td>27</td>\n",
       "      <td>False</td>\n",
       "    </tr>\n",
       "  </tbody>\n",
       "</table>\n",
       "<p>625 rows × 6 columns</p>\n",
       "</div>"
      ],
      "text/plain": [
       "               customerEmail transactionId orderId paymentMethodId  \\\n",
       "0     josephhoward@yahoo.com      a9lcj51r  vjbdvd       wt07xm68b   \n",
       "1     josephhoward@yahoo.com      y4wcv03i  yp6x27       wt07xm68b   \n",
       "2     josephhoward@yahoo.com      a9lcj51r  vjbdvd       wt07xm68b   \n",
       "3     josephhoward@yahoo.com      y4wcv03i  yp6x27       wt07xm68b   \n",
       "4     evansjeffery@yahoo.com      5mi94sfw  nlghpa       41ug157xz   \n",
       "..                       ...           ...     ...             ...   \n",
       "620  dawn05@tucker-brown.com      7yilsi1o  1bubxa       7yen1m1q8   \n",
       "621  dawn05@tucker-brown.com      wmh52bns  1bubxa       3zmkegkb8   \n",
       "622  dawn05@tucker-brown.com      c82k5bcv  1bubxa       7yen1m1q8   \n",
       "623  dawn05@tucker-brown.com      xdw33hfp  p0gdbf       3zmkegkb8   \n",
       "624  dawn05@tucker-brown.com      wgmajf82  5lmvrj       f0xnu5om9   \n",
       "\n",
       "     transactionAmount  transactionFailed  \n",
       "0                   18              False  \n",
       "1                   26              False  \n",
       "2                   18              False  \n",
       "3                   26              False  \n",
       "4                   45              False  \n",
       "..                 ...                ...  \n",
       "620                 25               True  \n",
       "621                 25               True  \n",
       "622                 25              False  \n",
       "623                 19              False  \n",
       "624                 27              False  \n",
       "\n",
       "[625 rows x 6 columns]"
      ]
     },
     "execution_count": 6,
     "metadata": {},
     "output_type": "execute_result"
    }
   ],
   "source": [
    "transactions"
   ]
  },
  {
   "cell_type": "code",
   "execution_count": 7,
   "metadata": {},
   "outputs": [],
   "source": [
    "o_p = pd.merge(orders, transactions, on=[\"customerEmail\", \"orderId\"])# megring orders  with transactions\n",
    "o_t_p = pd.merge(o_p, payments, on=\"customerEmail\") # merging the above result with payments"
   ]
  },
  {
   "cell_type": "code",
   "execution_count": 8,
   "metadata": {},
   "outputs": [],
   "source": [
    "o_t_p  = o_t_p.drop_duplicates(subset=\"transactionId\")"
   ]
  },
  {
   "cell_type": "code",
   "execution_count": 9,
   "metadata": {},
   "outputs": [],
   "source": [
    "full_data = pd.merge(customers, o_t_p, on=[\"customerEmail\"])"
   ]
  },
  {
   "cell_type": "code",
   "execution_count": 10,
   "metadata": {},
   "outputs": [],
   "source": [
    "full_data = full_data.drop_duplicates(subset = \"transactionId\")"
   ]
  },
  {
   "cell_type": "code",
   "execution_count": 11,
   "metadata": {},
   "outputs": [
    {
     "data": {
      "text/plain": [
       "False    366\n",
       "True     257\n",
       "Name: fraudulent, dtype: int64"
      ]
     },
     "execution_count": 11,
     "metadata": {},
     "output_type": "execute_result"
    }
   ],
   "source": [
    "full_data[\"fraudulent\"].value_counts()"
   ]
  },
  {
   "cell_type": "code",
   "execution_count": 12,
   "metadata": {},
   "outputs": [
    {
     "name": "stdout",
     "output_type": "stream",
     "text": [
      "<class 'pandas.core.frame.DataFrame'>\n",
      "Int64Index: 623 entries, 0 to 818\n",
      "Data columns (total 19 columns):\n",
      "fraudulent                          623 non-null bool\n",
      "customerEmail                       623 non-null object\n",
      "customerPhone                       623 non-null object\n",
      "customerDevice                      623 non-null object\n",
      "customerIPAddress                   623 non-null object\n",
      "customerBillingAddress              623 non-null object\n",
      "orderId                             623 non-null object\n",
      "orderAmount                         623 non-null int64\n",
      "orderState                          623 non-null object\n",
      "orderShippingAddress                623 non-null object\n",
      "transactionId                       623 non-null object\n",
      "paymentMethodId_x                   623 non-null object\n",
      "transactionAmount                   623 non-null int64\n",
      "transactionFailed                   623 non-null bool\n",
      "paymentMethodId_y                   623 non-null object\n",
      "paymentMethodRegistrationFailure    623 non-null bool\n",
      "paymentMethodType                   623 non-null object\n",
      "paymentMethodProvider               623 non-null object\n",
      "paymentMethodIssuer                 623 non-null object\n",
      "dtypes: bool(3), int64(2), object(14)\n",
      "memory usage: 84.6+ KB\n"
     ]
    }
   ],
   "source": [
    "full_data.info()"
   ]
  },
  {
   "cell_type": "code",
   "execution_count": 13,
   "metadata": {},
   "outputs": [
    {
     "data": {
      "text/html": [
       "<div>\n",
       "<style scoped>\n",
       "    .dataframe tbody tr th:only-of-type {\n",
       "        vertical-align: middle;\n",
       "    }\n",
       "\n",
       "    .dataframe tbody tr th {\n",
       "        vertical-align: top;\n",
       "    }\n",
       "\n",
       "    .dataframe thead th {\n",
       "        text-align: right;\n",
       "    }\n",
       "</style>\n",
       "<table border=\"1\" class=\"dataframe\">\n",
       "  <thead>\n",
       "    <tr style=\"text-align: right;\">\n",
       "      <th></th>\n",
       "      <th>orderAmount</th>\n",
       "      <th>transactionAmount</th>\n",
       "    </tr>\n",
       "  </thead>\n",
       "  <tbody>\n",
       "    <tr>\n",
       "      <td>count</td>\n",
       "      <td>623.000000</td>\n",
       "      <td>623.000000</td>\n",
       "    </tr>\n",
       "    <tr>\n",
       "      <td>mean</td>\n",
       "      <td>34.598716</td>\n",
       "      <td>34.598716</td>\n",
       "    </tr>\n",
       "    <tr>\n",
       "      <td>std</td>\n",
       "      <td>20.360247</td>\n",
       "      <td>20.360247</td>\n",
       "    </tr>\n",
       "    <tr>\n",
       "      <td>min</td>\n",
       "      <td>10.000000</td>\n",
       "      <td>10.000000</td>\n",
       "    </tr>\n",
       "    <tr>\n",
       "      <td>25%</td>\n",
       "      <td>21.000000</td>\n",
       "      <td>21.000000</td>\n",
       "    </tr>\n",
       "    <tr>\n",
       "      <td>50%</td>\n",
       "      <td>34.000000</td>\n",
       "      <td>34.000000</td>\n",
       "    </tr>\n",
       "    <tr>\n",
       "      <td>75%</td>\n",
       "      <td>45.000000</td>\n",
       "      <td>45.000000</td>\n",
       "    </tr>\n",
       "    <tr>\n",
       "      <td>max</td>\n",
       "      <td>353.000000</td>\n",
       "      <td>353.000000</td>\n",
       "    </tr>\n",
       "  </tbody>\n",
       "</table>\n",
       "</div>"
      ],
      "text/plain": [
       "       orderAmount  transactionAmount\n",
       "count   623.000000         623.000000\n",
       "mean     34.598716          34.598716\n",
       "std      20.360247          20.360247\n",
       "min      10.000000          10.000000\n",
       "25%      21.000000          21.000000\n",
       "50%      34.000000          34.000000\n",
       "75%      45.000000          45.000000\n",
       "max     353.000000         353.000000"
      ]
     },
     "execution_count": 13,
     "metadata": {},
     "output_type": "execute_result"
    }
   ],
   "source": [
    "full_data.describe()"
   ]
  },
  {
   "cell_type": "code",
   "execution_count": 14,
   "metadata": {},
   "outputs": [
    {
     "data": {
      "text/plain": [
       "<matplotlib.axes._subplots.AxesSubplot at 0x29aeb2327c8>"
      ]
     },
     "execution_count": 14,
     "metadata": {},
     "output_type": "execute_result"
    },
    {
     "data": {
      "image/png": "[encoded data removed]",
      "text/plain": [
       "<Figure size 432x288 with 1 Axes>"
      ]
     },
     "metadata": {
      "needs_background": "light"
     },
     "output_type": "display_data"
    }
   ],
   "source": [
    "full_data[\"paymentMethodProvider\"].hist()"
   ]
  },
  {
   "cell_type": "code",
   "execution_count": 15,
   "metadata": {},
   "outputs": [
    {
     "data": {
      "text/plain": [
       "<matplotlib.axes._subplots.AxesSubplot at 0x29aeb08c3c8>"
      ]
     },
     "execution_count": 15,
     "metadata": {},
     "output_type": "execute_result"
    },
    {
     "data": {
      "image/png": "[encoded data removed]",
      "text/plain": [
       "<Figure size 432x288 with 1 Axes>"
      ]
     },
     "metadata": {
      "needs_background": "light"
     },
     "output_type": "display_data"
    }
   ],
   "source": [
    "full_data[\"paymentMethodIssuer\"].hist()"
   ]
  },
  {
   "cell_type": "markdown",
   "metadata": {},
   "source": [
    "### from the above figures we can say that the payment  distribution is different"
   ]
  },
  {
   "cell_type": "code",
   "execution_count": 16,
   "metadata": {},
   "outputs": [
    {
     "data": {
      "text/html": [
       "<div>\n",
       "<style scoped>\n",
       "    .dataframe tbody tr th:only-of-type {\n",
       "        vertical-align: middle;\n",
       "    }\n",
       "\n",
       "    .dataframe tbody tr th {\n",
       "        vertical-align: top;\n",
       "    }\n",
       "\n",
       "    .dataframe thead th {\n",
       "        text-align: right;\n",
       "    }\n",
       "</style>\n",
       "<table border=\"1\" class=\"dataframe\">\n",
       "  <thead>\n",
       "    <tr style=\"text-align: right;\">\n",
       "      <th></th>\n",
       "      <th>fraudulent</th>\n",
       "      <th>customerEmail</th>\n",
       "      <th>customerPhone</th>\n",
       "      <th>customerDevice</th>\n",
       "      <th>customerIPAddress</th>\n",
       "      <th>customerBillingAddress</th>\n",
       "      <th>orderId</th>\n",
       "      <th>orderAmount</th>\n",
       "      <th>orderState</th>\n",
       "      <th>orderShippingAddress</th>\n",
       "      <th>transactionId</th>\n",
       "      <th>paymentMethodId_x</th>\n",
       "      <th>transactionAmount</th>\n",
       "      <th>transactionFailed</th>\n",
       "      <th>paymentMethodId_y</th>\n",
       "      <th>paymentMethodRegistrationFailure</th>\n",
       "      <th>paymentMethodType</th>\n",
       "      <th>paymentMethodProvider</th>\n",
       "      <th>paymentMethodIssuer</th>\n",
       "    </tr>\n",
       "  </thead>\n",
       "  <tbody>\n",
       "    <tr>\n",
       "      <td>814</td>\n",
       "      <td>False</td>\n",
       "      <td>dawn05@tucker-brown.com</td>\n",
       "      <td>(089)703-7360x8848</td>\n",
       "      <td>lu4fgcug8dr0dwbcuui1</td>\n",
       "      <td>132.132.95.33</td>\n",
       "      <td>130 Kimberly Junctions\\nEricmouth, KS 59756-2919</td>\n",
       "      <td>1bubxa</td>\n",
       "      <td>25</td>\n",
       "      <td>fulfilled</td>\n",
       "      <td>130 Kimberly Junctions\\nEricmouth, KS 59756-2919</td>\n",
       "      <td>7yilsi1o</td>\n",
       "      <td>7yen1m1q8</td>\n",
       "      <td>25</td>\n",
       "      <td>True</td>\n",
       "      <td>f0xnu5om9</td>\n",
       "      <td>False</td>\n",
       "      <td>card</td>\n",
       "      <td>JCB 16 digit</td>\n",
       "      <td>His Majesty Bank Corp.</td>\n",
       "    </tr>\n",
       "    <tr>\n",
       "      <td>815</td>\n",
       "      <td>False</td>\n",
       "      <td>dawn05@tucker-brown.com</td>\n",
       "      <td>(089)703-7360x8848</td>\n",
       "      <td>lu4fgcug8dr0dwbcuui1</td>\n",
       "      <td>132.132.95.33</td>\n",
       "      <td>130 Kimberly Junctions\\nEricmouth, KS 59756-2919</td>\n",
       "      <td>1bubxa</td>\n",
       "      <td>25</td>\n",
       "      <td>fulfilled</td>\n",
       "      <td>130 Kimberly Junctions\\nEricmouth, KS 59756-2919</td>\n",
       "      <td>wmh52bns</td>\n",
       "      <td>3zmkegkb8</td>\n",
       "      <td>25</td>\n",
       "      <td>True</td>\n",
       "      <td>f0xnu5om9</td>\n",
       "      <td>False</td>\n",
       "      <td>card</td>\n",
       "      <td>JCB 16 digit</td>\n",
       "      <td>His Majesty Bank Corp.</td>\n",
       "    </tr>\n",
       "    <tr>\n",
       "      <td>816</td>\n",
       "      <td>False</td>\n",
       "      <td>dawn05@tucker-brown.com</td>\n",
       "      <td>(089)703-7360x8848</td>\n",
       "      <td>lu4fgcug8dr0dwbcuui1</td>\n",
       "      <td>132.132.95.33</td>\n",
       "      <td>130 Kimberly Junctions\\nEricmouth, KS 59756-2919</td>\n",
       "      <td>1bubxa</td>\n",
       "      <td>25</td>\n",
       "      <td>fulfilled</td>\n",
       "      <td>130 Kimberly Junctions\\nEricmouth, KS 59756-2919</td>\n",
       "      <td>c82k5bcv</td>\n",
       "      <td>7yen1m1q8</td>\n",
       "      <td>25</td>\n",
       "      <td>False</td>\n",
       "      <td>f0xnu5om9</td>\n",
       "      <td>False</td>\n",
       "      <td>card</td>\n",
       "      <td>JCB 16 digit</td>\n",
       "      <td>His Majesty Bank Corp.</td>\n",
       "    </tr>\n",
       "    <tr>\n",
       "      <td>817</td>\n",
       "      <td>False</td>\n",
       "      <td>dawn05@tucker-brown.com</td>\n",
       "      <td>(089)703-7360x8848</td>\n",
       "      <td>lu4fgcug8dr0dwbcuui1</td>\n",
       "      <td>132.132.95.33</td>\n",
       "      <td>130 Kimberly Junctions\\nEricmouth, KS 59756-2919</td>\n",
       "      <td>p0gdbf</td>\n",
       "      <td>19</td>\n",
       "      <td>fulfilled</td>\n",
       "      <td>130 Kimberly Junctions\\nEricmouth, KS 59756-2919</td>\n",
       "      <td>xdw33hfp</td>\n",
       "      <td>3zmkegkb8</td>\n",
       "      <td>19</td>\n",
       "      <td>False</td>\n",
       "      <td>f0xnu5om9</td>\n",
       "      <td>False</td>\n",
       "      <td>card</td>\n",
       "      <td>JCB 16 digit</td>\n",
       "      <td>His Majesty Bank Corp.</td>\n",
       "    </tr>\n",
       "    <tr>\n",
       "      <td>818</td>\n",
       "      <td>False</td>\n",
       "      <td>dawn05@tucker-brown.com</td>\n",
       "      <td>(089)703-7360x8848</td>\n",
       "      <td>lu4fgcug8dr0dwbcuui1</td>\n",
       "      <td>132.132.95.33</td>\n",
       "      <td>130 Kimberly Junctions\\nEricmouth, KS 59756-2919</td>\n",
       "      <td>5lmvrj</td>\n",
       "      <td>27</td>\n",
       "      <td>fulfilled</td>\n",
       "      <td>539 Branch Shore\\nLake Roy, IA 11884</td>\n",
       "      <td>wgmajf82</td>\n",
       "      <td>f0xnu5om9</td>\n",
       "      <td>27</td>\n",
       "      <td>False</td>\n",
       "      <td>f0xnu5om9</td>\n",
       "      <td>False</td>\n",
       "      <td>card</td>\n",
       "      <td>JCB 16 digit</td>\n",
       "      <td>His Majesty Bank Corp.</td>\n",
       "    </tr>\n",
       "  </tbody>\n",
       "</table>\n",
       "</div>"
      ],
      "text/plain": [
       "     fraudulent            customerEmail       customerPhone  \\\n",
       "814       False  dawn05@tucker-brown.com  (089)703-7360x8848   \n",
       "815       False  dawn05@tucker-brown.com  (089)703-7360x8848   \n",
       "816       False  dawn05@tucker-brown.com  (089)703-7360x8848   \n",
       "817       False  dawn05@tucker-brown.com  (089)703-7360x8848   \n",
       "818       False  dawn05@tucker-brown.com  (089)703-7360x8848   \n",
       "\n",
       "           customerDevice customerIPAddress  \\\n",
       "814  lu4fgcug8dr0dwbcuui1     132.132.95.33   \n",
       "815  lu4fgcug8dr0dwbcuui1     132.132.95.33   \n",
       "816  lu4fgcug8dr0dwbcuui1     132.132.95.33   \n",
       "817  lu4fgcug8dr0dwbcuui1     132.132.95.33   \n",
       "818  lu4fgcug8dr0dwbcuui1     132.132.95.33   \n",
       "\n",
       "                               customerBillingAddress orderId  orderAmount  \\\n",
       "814  130 Kimberly Junctions\\nEricmouth, KS 59756-2919  1bubxa           25   \n",
       "815  130 Kimberly Junctions\\nEricmouth, KS 59756-2919  1bubxa           25   \n",
       "816  130 Kimberly Junctions\\nEricmouth, KS 59756-2919  1bubxa           25   \n",
       "817  130 Kimberly Junctions\\nEricmouth, KS 59756-2919  p0gdbf           19   \n",
       "818  130 Kimberly Junctions\\nEricmouth, KS 59756-2919  5lmvrj           27   \n",
       "\n",
       "    orderState                              orderShippingAddress  \\\n",
       "814  fulfilled  130 Kimberly Junctions\\nEricmouth, KS 59756-2919   \n",
       "815  fulfilled  130 Kimberly Junctions\\nEricmouth, KS 59756-2919   \n",
       "816  fulfilled  130 Kimberly Junctions\\nEricmouth, KS 59756-2919   \n",
       "817  fulfilled  130 Kimberly Junctions\\nEricmouth, KS 59756-2919   \n",
       "818  fulfilled              539 Branch Shore\\nLake Roy, IA 11884   \n",
       "\n",
       "    transactionId paymentMethodId_x  transactionAmount  transactionFailed  \\\n",
       "814      7yilsi1o         7yen1m1q8                 25               True   \n",
       "815      wmh52bns         3zmkegkb8                 25               True   \n",
       "816      c82k5bcv         7yen1m1q8                 25              False   \n",
       "817      xdw33hfp         3zmkegkb8                 19              False   \n",
       "818      wgmajf82         f0xnu5om9                 27              False   \n",
       "\n",
       "    paymentMethodId_y  paymentMethodRegistrationFailure paymentMethodType  \\\n",
       "814         f0xnu5om9                             False              card   \n",
       "815         f0xnu5om9                             False              card   \n",
       "816         f0xnu5om9                             False              card   \n",
       "817         f0xnu5om9                             False              card   \n",
       "818         f0xnu5om9                             False              card   \n",
       "\n",
       "    paymentMethodProvider     paymentMethodIssuer  \n",
       "814          JCB 16 digit  His Majesty Bank Corp.  \n",
       "815          JCB 16 digit  His Majesty Bank Corp.  \n",
       "816          JCB 16 digit  His Majesty Bank Corp.  \n",
       "817          JCB 16 digit  His Majesty Bank Corp.  \n",
       "818          JCB 16 digit  His Majesty Bank Corp.  "
      ]
     },
     "execution_count": 16,
     "metadata": {},
     "output_type": "execute_result"
    }
   ],
   "source": [
    "full_data.tail()"
   ]
  },
  {
   "cell_type": "code",
   "execution_count": 17,
   "metadata": {},
   "outputs": [
    {
     "data": {
      "text/plain": [
       "(623, 19)"
      ]
     },
     "execution_count": 17,
     "metadata": {},
     "output_type": "execute_result"
    }
   ],
   "source": [
    "full_data.shape"
   ]
  },
  {
   "cell_type": "code",
   "execution_count": 18,
   "metadata": {},
   "outputs": [
    {
     "data": {
      "text/plain": [
       "Index(['fraudulent', 'customerEmail', 'customerPhone', 'customerDevice',\n",
       "       'customerIPAddress', 'customerBillingAddress', 'orderId', 'orderAmount',\n",
       "       'orderState', 'orderShippingAddress', 'transactionId',\n",
       "       'paymentMethodId_x', 'transactionAmount', 'transactionFailed',\n",
       "       'paymentMethodId_y', 'paymentMethodRegistrationFailure',\n",
       "       'paymentMethodType', 'paymentMethodProvider', 'paymentMethodIssuer'],\n",
       "      dtype='object')"
      ]
     },
     "execution_count": 18,
     "metadata": {},
     "output_type": "execute_result"
    }
   ],
   "source": [
    "full_data.columns"
   ]
  },
  {
   "cell_type": "markdown",
   "metadata": {},
   "source": [
    "### From the above dataset we can see that there is good depth of knowledge in the data and Cannot add all the columns in to our analysis\n",
    "\n",
    "## omiting data\n",
    "-----\n",
    "* customer details analysis like the correlation b/w place of the customer and the fraudlent users\n",
    "* Ip address is far fetched\n",
    "* Order ID\n",
    "* order state\n",
    "* shipping address\n",
    "* transactionId\n",
    "* Transactoin amount\n",
    "* paymentMethodId_y\n",
    "* paymentMethodId_x\n",
    "\n"
   ]
  },
  {
   "cell_type": "code",
   "execution_count": 19,
   "metadata": {},
   "outputs": [],
   "source": [
    "relevant_data = full_data[['fraudulent', 'orderAmount','orderState', 'transactionFailed','paymentMethodRegistrationFailure','paymentMethodType', 'paymentMethodProvider', 'paymentMethodIssuer']]"
   ]
  },
  {
   "cell_type": "code",
   "execution_count": 20,
   "metadata": {},
   "outputs": [],
   "source": [
    "# Encoding the data into numbers from objects.. "
   ]
  },
  {
   "cell_type": "code",
   "execution_count": 21,
   "metadata": {},
   "outputs": [
    {
     "data": {
      "text/plain": [
       "Her Majesty Trust           88\n",
       "His Majesty Bank Corp.      85\n",
       "Bastion Banks               73\n",
       "Citizens First Banks        57\n",
       "Grand Credit Corporation    52\n",
       "Bulwark Trust Corp.         48\n",
       "Fountain Financial Inc.     46\n",
       "Vertex Bancorp              45\n",
       "Rose Bancshares             44\n",
       "Solace Banks                42\n",
       "B                           20\n",
       "c                           10\n",
       "e                            6\n",
       "a                            4\n",
       "x                            2\n",
       "o                            1\n",
       "Name: paymentMethodIssuer, dtype: int64"
      ]
     },
     "execution_count": 21,
     "metadata": {},
     "output_type": "execute_result"
    }
   ],
   "source": [
    "relevant_data.paymentMethodIssuer.value_counts()"
   ]
  },
  {
   "cell_type": "code",
   "execution_count": 22,
   "metadata": {},
   "outputs": [
    {
     "data": {
      "text/html": [
       "<div>\n",
       "<style scoped>\n",
       "    .dataframe tbody tr th:only-of-type {\n",
       "        vertical-align: middle;\n",
       "    }\n",
       "\n",
       "    .dataframe tbody tr th {\n",
       "        vertical-align: top;\n",
       "    }\n",
       "\n",
       "    .dataframe thead th {\n",
       "        text-align: right;\n",
       "    }\n",
       "</style>\n",
       "<table border=\"1\" class=\"dataframe\">\n",
       "  <thead>\n",
       "    <tr style=\"text-align: right;\">\n",
       "      <th></th>\n",
       "      <th>fraudulent</th>\n",
       "      <th>orderAmount</th>\n",
       "      <th>orderState</th>\n",
       "      <th>transactionFailed</th>\n",
       "      <th>paymentMethodRegistrationFailure</th>\n",
       "      <th>paymentMethodType</th>\n",
       "      <th>paymentMethodProvider</th>\n",
       "      <th>paymentMethodIssuer</th>\n",
       "    </tr>\n",
       "  </thead>\n",
       "  <tbody>\n",
       "    <tr>\n",
       "      <td>0</td>\n",
       "      <td>False</td>\n",
       "      <td>18</td>\n",
       "      <td>pending</td>\n",
       "      <td>False</td>\n",
       "      <td>True</td>\n",
       "      <td>card</td>\n",
       "      <td>JCB 16 digit</td>\n",
       "      <td>Citizens First Banks</td>\n",
       "    </tr>\n",
       "    <tr>\n",
       "      <td>1</td>\n",
       "      <td>False</td>\n",
       "      <td>26</td>\n",
       "      <td>fulfilled</td>\n",
       "      <td>False</td>\n",
       "      <td>True</td>\n",
       "      <td>card</td>\n",
       "      <td>JCB 16 digit</td>\n",
       "      <td>Citizens First Banks</td>\n",
       "    </tr>\n",
       "    <tr>\n",
       "      <td>2</td>\n",
       "      <td>True</td>\n",
       "      <td>45</td>\n",
       "      <td>fulfilled</td>\n",
       "      <td>False</td>\n",
       "      <td>True</td>\n",
       "      <td>bitcoin</td>\n",
       "      <td>VISA 16 digit</td>\n",
       "      <td>Solace Banks</td>\n",
       "    </tr>\n",
       "    <tr>\n",
       "      <td>3</td>\n",
       "      <td>True</td>\n",
       "      <td>23</td>\n",
       "      <td>fulfilled</td>\n",
       "      <td>False</td>\n",
       "      <td>True</td>\n",
       "      <td>bitcoin</td>\n",
       "      <td>VISA 16 digit</td>\n",
       "      <td>Solace Banks</td>\n",
       "    </tr>\n",
       "    <tr>\n",
       "      <td>4</td>\n",
       "      <td>True</td>\n",
       "      <td>43</td>\n",
       "      <td>fulfilled</td>\n",
       "      <td>True</td>\n",
       "      <td>True</td>\n",
       "      <td>bitcoin</td>\n",
       "      <td>VISA 16 digit</td>\n",
       "      <td>Solace Banks</td>\n",
       "    </tr>\n",
       "    <tr>\n",
       "      <td>...</td>\n",
       "      <td>...</td>\n",
       "      <td>...</td>\n",
       "      <td>...</td>\n",
       "      <td>...</td>\n",
       "      <td>...</td>\n",
       "      <td>...</td>\n",
       "      <td>...</td>\n",
       "      <td>...</td>\n",
       "    </tr>\n",
       "    <tr>\n",
       "      <td>814</td>\n",
       "      <td>False</td>\n",
       "      <td>25</td>\n",
       "      <td>fulfilled</td>\n",
       "      <td>True</td>\n",
       "      <td>False</td>\n",
       "      <td>card</td>\n",
       "      <td>JCB 16 digit</td>\n",
       "      <td>His Majesty Bank Corp.</td>\n",
       "    </tr>\n",
       "    <tr>\n",
       "      <td>815</td>\n",
       "      <td>False</td>\n",
       "      <td>25</td>\n",
       "      <td>fulfilled</td>\n",
       "      <td>True</td>\n",
       "      <td>False</td>\n",
       "      <td>card</td>\n",
       "      <td>JCB 16 digit</td>\n",
       "      <td>His Majesty Bank Corp.</td>\n",
       "    </tr>\n",
       "    <tr>\n",
       "      <td>816</td>\n",
       "      <td>False</td>\n",
       "      <td>25</td>\n",
       "      <td>fulfilled</td>\n",
       "      <td>False</td>\n",
       "      <td>False</td>\n",
       "      <td>card</td>\n",
       "      <td>JCB 16 digit</td>\n",
       "      <td>His Majesty Bank Corp.</td>\n",
       "    </tr>\n",
       "    <tr>\n",
       "      <td>817</td>\n",
       "      <td>False</td>\n",
       "      <td>19</td>\n",
       "      <td>fulfilled</td>\n",
       "      <td>False</td>\n",
       "      <td>False</td>\n",
       "      <td>card</td>\n",
       "      <td>JCB 16 digit</td>\n",
       "      <td>His Majesty Bank Corp.</td>\n",
       "    </tr>\n",
       "    <tr>\n",
       "      <td>818</td>\n",
       "      <td>False</td>\n",
       "      <td>27</td>\n",
       "      <td>fulfilled</td>\n",
       "      <td>False</td>\n",
       "      <td>False</td>\n",
       "      <td>card</td>\n",
       "      <td>JCB 16 digit</td>\n",
       "      <td>His Majesty Bank Corp.</td>\n",
       "    </tr>\n",
       "  </tbody>\n",
       "</table>\n",
       "<p>623 rows × 8 columns</p>\n",
       "</div>"
      ],
      "text/plain": [
       "     fraudulent  orderAmount orderState  transactionFailed  \\\n",
       "0         False           18    pending              False   \n",
       "1         False           26  fulfilled              False   \n",
       "2          True           45  fulfilled              False   \n",
       "3          True           23  fulfilled              False   \n",
       "4          True           43  fulfilled               True   \n",
       "..          ...          ...        ...                ...   \n",
       "814       False           25  fulfilled               True   \n",
       "815       False           25  fulfilled               True   \n",
       "816       False           25  fulfilled              False   \n",
       "817       False           19  fulfilled              False   \n",
       "818       False           27  fulfilled              False   \n",
       "\n",
       "     paymentMethodRegistrationFailure paymentMethodType paymentMethodProvider  \\\n",
       "0                                True              card          JCB 16 digit   \n",
       "1                                True              card          JCB 16 digit   \n",
       "2                                True           bitcoin         VISA 16 digit   \n",
       "3                                True           bitcoin         VISA 16 digit   \n",
       "4                                True           bitcoin         VISA 16 digit   \n",
       "..                                ...               ...                   ...   \n",
       "814                             False              card          JCB 16 digit   \n",
       "815                             False              card          JCB 16 digit   \n",
       "816                             False              card          JCB 16 digit   \n",
       "817                             False              card          JCB 16 digit   \n",
       "818                             False              card          JCB 16 digit   \n",
       "\n",
       "        paymentMethodIssuer  \n",
       "0      Citizens First Banks  \n",
       "1      Citizens First Banks  \n",
       "2              Solace Banks  \n",
       "3              Solace Banks  \n",
       "4              Solace Banks  \n",
       "..                      ...  \n",
       "814  His Majesty Bank Corp.  \n",
       "815  His Majesty Bank Corp.  \n",
       "816  His Majesty Bank Corp.  \n",
       "817  His Majesty Bank Corp.  \n",
       "818  His Majesty Bank Corp.  \n",
       "\n",
       "[623 rows x 8 columns]"
      ]
     },
     "execution_count": 22,
     "metadata": {},
     "output_type": "execute_result"
    }
   ],
   "source": [
    "relevant_data"
   ]
  },
  {
   "cell_type": "code",
   "execution_count": 23,
   "metadata": {},
   "outputs": [],
   "source": [
    "# Columns for label encoding\n",
    "\"\"\"\n",
    "fradulent, orderstate, transactionFailed, paymentMethodRegistrationFailure\n",
    "\"\"\"\n",
    "\n",
    "# Columns for one-hot encoding \n",
    "\"\"\"\n",
    "\n",
    "paymentMethodType, paymentMethodProvider,paymentMethodIssuer\n",
    "\n",
    "\"\"\"\n",
    "from sklearn import preprocessing"
   ]
  },
  {
   "cell_type": "code",
   "execution_count": 24,
   "metadata": {},
   "outputs": [
    {
     "name": "stderr",
     "output_type": "stream",
     "text": [
      "C:\\Users\\91897\\Anaconda3\\lib\\site-packages\\pandas\\core\\generic.py:5208: SettingWithCopyWarning: \n",
      "A value is trying to be set on a copy of a slice from a DataFrame.\n",
      "Try using .loc[row_indexer,col_indexer] = value instead\n",
      "\n",
      "See the caveats in the documentation: http://pandas.pydata.org/pandas-docs/stable/user_guide/indexing.html#returning-a-view-versus-a-copy\n",
      "  self[name] = value\n"
     ]
    }
   ],
   "source": [
    "le = preprocessing.LabelEncoder()\n",
    "relevant_data.fraudulent = le.fit_transform(relevant_data.fraudulent)\n",
    "relevant_data.orderState = le.fit_transform(relevant_data.orderState)\n",
    "relevant_data.transactionFailed = le.fit_transform(relevant_data.transactionFailed)\n",
    "relevant_data.paymentMethodRegistrationFailure = le.fit_transform(relevant_data.paymentMethodRegistrationFailure)"
   ]
  },
  {
   "cell_type": "code",
   "execution_count": 25,
   "metadata": {},
   "outputs": [
    {
     "data": {
      "text/html": [
       "<div>\n",
       "<style scoped>\n",
       "    .dataframe tbody tr th:only-of-type {\n",
       "        vertical-align: middle;\n",
       "    }\n",
       "\n",
       "    .dataframe tbody tr th {\n",
       "        vertical-align: top;\n",
       "    }\n",
       "\n",
       "    .dataframe thead th {\n",
       "        text-align: right;\n",
       "    }\n",
       "</style>\n",
       "<table border=\"1\" class=\"dataframe\">\n",
       "  <thead>\n",
       "    <tr style=\"text-align: right;\">\n",
       "      <th></th>\n",
       "      <th>fraudulent</th>\n",
       "      <th>orderAmount</th>\n",
       "      <th>orderState</th>\n",
       "      <th>transactionFailed</th>\n",
       "      <th>paymentMethodRegistrationFailure</th>\n",
       "      <th>paymentMethodType</th>\n",
       "      <th>paymentMethodProvider</th>\n",
       "      <th>paymentMethodIssuer</th>\n",
       "    </tr>\n",
       "  </thead>\n",
       "  <tbody>\n",
       "    <tr>\n",
       "      <td>0</td>\n",
       "      <td>0</td>\n",
       "      <td>18</td>\n",
       "      <td>2</td>\n",
       "      <td>0</td>\n",
       "      <td>1</td>\n",
       "      <td>card</td>\n",
       "      <td>JCB 16 digit</td>\n",
       "      <td>Citizens First Banks</td>\n",
       "    </tr>\n",
       "    <tr>\n",
       "      <td>1</td>\n",
       "      <td>0</td>\n",
       "      <td>26</td>\n",
       "      <td>1</td>\n",
       "      <td>0</td>\n",
       "      <td>1</td>\n",
       "      <td>card</td>\n",
       "      <td>JCB 16 digit</td>\n",
       "      <td>Citizens First Banks</td>\n",
       "    </tr>\n",
       "    <tr>\n",
       "      <td>2</td>\n",
       "      <td>1</td>\n",
       "      <td>45</td>\n",
       "      <td>1</td>\n",
       "      <td>0</td>\n",
       "      <td>1</td>\n",
       "      <td>bitcoin</td>\n",
       "      <td>VISA 16 digit</td>\n",
       "      <td>Solace Banks</td>\n",
       "    </tr>\n",
       "    <tr>\n",
       "      <td>3</td>\n",
       "      <td>1</td>\n",
       "      <td>23</td>\n",
       "      <td>1</td>\n",
       "      <td>0</td>\n",
       "      <td>1</td>\n",
       "      <td>bitcoin</td>\n",
       "      <td>VISA 16 digit</td>\n",
       "      <td>Solace Banks</td>\n",
       "    </tr>\n",
       "    <tr>\n",
       "      <td>4</td>\n",
       "      <td>1</td>\n",
       "      <td>43</td>\n",
       "      <td>1</td>\n",
       "      <td>1</td>\n",
       "      <td>1</td>\n",
       "      <td>bitcoin</td>\n",
       "      <td>VISA 16 digit</td>\n",
       "      <td>Solace Banks</td>\n",
       "    </tr>\n",
       "    <tr>\n",
       "      <td>...</td>\n",
       "      <td>...</td>\n",
       "      <td>...</td>\n",
       "      <td>...</td>\n",
       "      <td>...</td>\n",
       "      <td>...</td>\n",
       "      <td>...</td>\n",
       "      <td>...</td>\n",
       "      <td>...</td>\n",
       "    </tr>\n",
       "    <tr>\n",
       "      <td>814</td>\n",
       "      <td>0</td>\n",
       "      <td>25</td>\n",
       "      <td>1</td>\n",
       "      <td>1</td>\n",
       "      <td>0</td>\n",
       "      <td>card</td>\n",
       "      <td>JCB 16 digit</td>\n",
       "      <td>His Majesty Bank Corp.</td>\n",
       "    </tr>\n",
       "    <tr>\n",
       "      <td>815</td>\n",
       "      <td>0</td>\n",
       "      <td>25</td>\n",
       "      <td>1</td>\n",
       "      <td>1</td>\n",
       "      <td>0</td>\n",
       "      <td>card</td>\n",
       "      <td>JCB 16 digit</td>\n",
       "      <td>His Majesty Bank Corp.</td>\n",
       "    </tr>\n",
       "    <tr>\n",
       "      <td>816</td>\n",
       "      <td>0</td>\n",
       "      <td>25</td>\n",
       "      <td>1</td>\n",
       "      <td>0</td>\n",
       "      <td>0</td>\n",
       "      <td>card</td>\n",
       "      <td>JCB 16 digit</td>\n",
       "      <td>His Majesty Bank Corp.</td>\n",
       "    </tr>\n",
       "    <tr>\n",
       "      <td>817</td>\n",
       "      <td>0</td>\n",
       "      <td>19</td>\n",
       "      <td>1</td>\n",
       "      <td>0</td>\n",
       "      <td>0</td>\n",
       "      <td>card</td>\n",
       "      <td>JCB 16 digit</td>\n",
       "      <td>His Majesty Bank Corp.</td>\n",
       "    </tr>\n",
       "    <tr>\n",
       "      <td>818</td>\n",
       "      <td>0</td>\n",
       "      <td>27</td>\n",
       "      <td>1</td>\n",
       "      <td>0</td>\n",
       "      <td>0</td>\n",
       "      <td>card</td>\n",
       "      <td>JCB 16 digit</td>\n",
       "      <td>His Majesty Bank Corp.</td>\n",
       "    </tr>\n",
       "  </tbody>\n",
       "</table>\n",
       "<p>623 rows × 8 columns</p>\n",
       "</div>"
      ],
      "text/plain": [
       "     fraudulent  orderAmount  orderState  transactionFailed  \\\n",
       "0             0           18           2                  0   \n",
       "1             0           26           1                  0   \n",
       "2             1           45           1                  0   \n",
       "3             1           23           1                  0   \n",
       "4             1           43           1                  1   \n",
       "..          ...          ...         ...                ...   \n",
       "814           0           25           1                  1   \n",
       "815           0           25           1                  1   \n",
       "816           0           25           1                  0   \n",
       "817           0           19           1                  0   \n",
       "818           0           27           1                  0   \n",
       "\n",
       "     paymentMethodRegistrationFailure paymentMethodType paymentMethodProvider  \\\n",
       "0                                   1              card          JCB 16 digit   \n",
       "1                                   1              card          JCB 16 digit   \n",
       "2                                   1           bitcoin         VISA 16 digit   \n",
       "3                                   1           bitcoin         VISA 16 digit   \n",
       "4                                   1           bitcoin         VISA 16 digit   \n",
       "..                                ...               ...                   ...   \n",
       "814                                 0              card          JCB 16 digit   \n",
       "815                                 0              card          JCB 16 digit   \n",
       "816                                 0              card          JCB 16 digit   \n",
       "817                                 0              card          JCB 16 digit   \n",
       "818                                 0              card          JCB 16 digit   \n",
       "\n",
       "        paymentMethodIssuer  \n",
       "0      Citizens First Banks  \n",
       "1      Citizens First Banks  \n",
       "2              Solace Banks  \n",
       "3              Solace Banks  \n",
       "4              Solace Banks  \n",
       "..                      ...  \n",
       "814  His Majesty Bank Corp.  \n",
       "815  His Majesty Bank Corp.  \n",
       "816  His Majesty Bank Corp.  \n",
       "817  His Majesty Bank Corp.  \n",
       "818  His Majesty Bank Corp.  \n",
       "\n",
       "[623 rows x 8 columns]"
      ]
     },
     "execution_count": 25,
     "metadata": {},
     "output_type": "execute_result"
    }
   ],
   "source": [
    "relevant_data"
   ]
  },
  {
   "cell_type": "code",
   "execution_count": 26,
   "metadata": {},
   "outputs": [
    {
     "name": "stderr",
     "output_type": "stream",
     "text": [
      "C:\\Users\\91897\\Anaconda3\\lib\\site-packages\\sklearn\\preprocessing\\_encoders.py:415: FutureWarning: The handling of integer data will change in version 0.22. Currently, the categories are determined based on the range [0, max(values)], while in the future they will be determined based on the unique values.\n",
      "If you want the future behaviour and silence this warning, you can specify \"categories='auto'\".\n",
      "In case you used a LabelEncoder before this OneHotEncoder to convert the categories to integers, then you can now use the OneHotEncoder directly.\n",
      "  warnings.warn(msg, FutureWarning)\n",
      "C:\\Users\\91897\\Anaconda3\\lib\\site-packages\\sklearn\\preprocessing\\_encoders.py:415: FutureWarning: The handling of integer data will change in version 0.22. Currently, the categories are determined based on the range [0, max(values)], while in the future they will be determined based on the unique values.\n",
      "If you want the future behaviour and silence this warning, you can specify \"categories='auto'\".\n",
      "In case you used a LabelEncoder before this OneHotEncoder to convert the categories to integers, then you can now use the OneHotEncoder directly.\n",
      "  warnings.warn(msg, FutureWarning)\n",
      "C:\\Users\\91897\\Anaconda3\\lib\\site-packages\\sklearn\\preprocessing\\_encoders.py:415: FutureWarning: The handling of integer data will change in version 0.22. Currently, the categories are determined based on the range [0, max(values)], while in the future they will be determined based on the unique values.\n",
      "If you want the future behaviour and silence this warning, you can specify \"categories='auto'\".\n",
      "In case you used a LabelEncoder before this OneHotEncoder to convert the categories to integers, then you can now use the OneHotEncoder directly.\n",
      "  warnings.warn(msg, FutureWarning)\n"
     ]
    }
   ],
   "source": [
    "oneHot = preprocessing.OneHotEncoder(sparse=False)\n",
    "paymentMethodType = le.fit_transform(relevant_data.paymentMethodType)\n",
    "# paymentMethodType = array(paymentMethodType)\n",
    "paymentMethodProvider = le.fit_transform(relevant_data.paymentMethodProvider)\n",
    "# paymentMethodProvider = array(paymentMethodProvider)\n",
    "paymentMethodIssuer = le.fit_transform(relevant_data.paymentMethodIssuer)\n",
    "# paymentMethodIssuer = array(paymentMethodIssuer)\n",
    "encoded_paymentMethodType = oneHot.fit_transform(paymentMethodType.reshape(len(paymentMethodType), 1))\n",
    "encoded_paymentMethodProvider = oneHot.fit_transform(paymentMethodProvider.reshape(len(paymentMethodProvider), 1))\n",
    "encoded_paymentMethodIssuer = oneHot.fit_transform(paymentMethodIssuer.reshape(len(paymentMethodIssuer), 1))"
   ]
  },
  {
   "cell_type": "code",
   "execution_count": 27,
   "metadata": {},
   "outputs": [],
   "source": [
    "relevant_data = relevant_data[[\"fraudulent\",\"orderAmount\",\"orderState\",\"transactionFailed\",\"paymentMethodRegistrationFailure\"]]"
   ]
  },
  {
   "cell_type": "code",
   "execution_count": 28,
   "metadata": {},
   "outputs": [
    {
     "data": {
      "text/plain": [
       "(623, 5)"
      ]
     },
     "execution_count": 28,
     "metadata": {},
     "output_type": "execute_result"
    }
   ],
   "source": [
    "relevant_data.shape"
   ]
  },
  {
   "cell_type": "code",
   "execution_count": 29,
   "metadata": {},
   "outputs": [],
   "source": [
    "relevant_data = relevant_data.reset_index()"
   ]
  },
  {
   "cell_type": "code",
   "execution_count": 30,
   "metadata": {},
   "outputs": [],
   "source": [
    "paymentMethodType_df = pd.DataFrame(encoded_paymentMethodType, columns = [\"paymentType%d\" % (i + 1) for i in range(4)]) # from shape of the array\n",
    "paymentMethodProvider_df =  pd.DataFrame(encoded_paymentMethodProvider, columns = [\"paymentprovider%d\" % (i + 1) for i in range(10)])\n",
    "paymentMethodIssuer_df = pd.DataFrame(encoded_paymentMethodIssuer, columns = [\"paymentissuer%d\" % (i + 1) for i in range(16)])"
   ]
  },
  {
   "cell_type": "code",
   "execution_count": 31,
   "metadata": {},
   "outputs": [],
   "source": [
    "paymentMethodType_df = paymentMethodType_df.reset_index()\n",
    "paymentMethodProvider_df = paymentMethodProvider_df.reset_index()\n",
    "paymentMethodIssuer_df = paymentMethodIssuer_df.reset_index()"
   ]
  },
  {
   "cell_type": "code",
   "execution_count": 32,
   "metadata": {},
   "outputs": [],
   "source": [
    "model_data = pd.merge(relevant_data, paymentMethodType_df, on = ['index'], validate = \"one_to_one\")\n",
    "model_data = pd.merge(model_data, paymentMethodProvider_df, on = ['index'], validate = \"one_to_one\")\n",
    "model_data = pd.merge(model_data, paymentMethodIssuer_df, on = ['index'], validate = \"one_to_one\")"
   ]
  },
  {
   "cell_type": "code",
   "execution_count": 33,
   "metadata": {},
   "outputs": [],
   "source": [
    "del model_data['index']"
   ]
  },
  {
   "cell_type": "markdown",
   "metadata": {},
   "source": [
    "## Splitting the data into test and train sets for the classifiers"
   ]
  },
  {
   "cell_type": "code",
   "execution_count": 34,
   "metadata": {},
   "outputs": [],
   "source": [
    "from sklearn.model_selection import train_test_split\n",
    "\n",
    "train_set, test_set = train_test_split(model_data, test_size = 0.2,  random_state = 123 )"
   ]
  },
  {
   "cell_type": "code",
   "execution_count": 35,
   "metadata": {},
   "outputs": [],
   "source": [
    "y_train = train_set['fraudulent']"
   ]
  },
  {
   "cell_type": "code",
   "execution_count": 36,
   "metadata": {},
   "outputs": [],
   "source": [
    "del train_set['fraudulent']"
   ]
  },
  {
   "cell_type": "code",
   "execution_count": 37,
   "metadata": {},
   "outputs": [],
   "source": [
    "X_train = train_set"
   ]
  },
  {
   "cell_type": "code",
   "execution_count": 38,
   "metadata": {},
   "outputs": [],
   "source": [
    "y_test= test_set['fraudulent']\n",
    "del test_set['fraudulent']\n",
    "X_test = test_set"
   ]
  },
  {
   "cell_type": "markdown",
   "metadata": {},
   "source": [
    "## Applying the Logistic regression to the Training data"
   ]
  },
  {
   "cell_type": "code",
   "execution_count": 39,
   "metadata": {},
   "outputs": [
    {
     "name": "stderr",
     "output_type": "stream",
     "text": [
      "C:\\Users\\91897\\Anaconda3\\lib\\site-packages\\sklearn\\linear_model\\logistic.py:432: FutureWarning: Default solver will be changed to 'lbfgs' in 0.22. Specify a solver to silence this warning.\n",
      "  FutureWarning)\n"
     ]
    },
    {
     "data": {
      "text/plain": [
       "LogisticRegression(C=1.0, class_weight=None, dual=False, fit_intercept=True,\n",
       "                   intercept_scaling=1, l1_ratio=None, max_iter=100,\n",
       "                   multi_class='warn', n_jobs=None, penalty='l2',\n",
       "                   random_state=0, solver='warn', tol=0.0001, verbose=0,\n",
       "                   warm_start=False)"
      ]
     },
     "execution_count": 39,
     "metadata": {},
     "output_type": "execute_result"
    }
   ],
   "source": [
    "# Classifier\n",
    "# Logistics Regression classifier\n",
    "from sklearn.linear_model import LogisticRegression\n",
    "classifier = LogisticRegression(random_state=0)\n",
    "classifier.fit(X_train, y_train)"
   ]
  },
  {
   "cell_type": "code",
   "execution_count": 41,
   "metadata": {},
   "outputs": [],
   "source": [
    "# Predicting the Test set results\n",
    "y_pred = classifier.predict(X_test)"
   ]
  },
  {
   "cell_type": "code",
   "execution_count": 42,
   "metadata": {},
   "outputs": [],
   "source": [
    "# Making the confusion Matrix\n",
    "from sklearn.metrics import confusion_matrix\n",
    "Logisitc_cm = confusion_matrix(y_test, y_pred)\n"
   ]
  },
  {
   "cell_type": "code",
   "execution_count": 43,
   "metadata": {},
   "outputs": [
    {
     "data": {
      "text/plain": [
       "array([[43,  5],\n",
       "       [13, 25]], dtype=int64)"
      ]
     },
     "execution_count": 43,
     "metadata": {},
     "output_type": "execute_result"
    }
   ],
   "source": [
    "Logisitc_cm"
   ]
  },
  {
   "cell_type": "markdown",
   "metadata": {},
   "source": [
    "### Naive Bayesian classifier"
   ]
  },
  {
   "cell_type": "code",
   "execution_count": 44,
   "metadata": {},
   "outputs": [
    {
     "data": {
      "text/plain": [
       "GaussianNB(priors=None, var_smoothing=1e-09)"
      ]
     },
     "execution_count": 44,
     "metadata": {},
     "output_type": "execute_result"
    }
   ],
   "source": [
    "from sklearn.naive_bayes import GaussianNB\n",
    "classifier = GaussianNB()\n",
    "classifier.fit(X_train, y_train)"
   ]
  },
  {
   "cell_type": "code",
   "execution_count": 45,
   "metadata": {},
   "outputs": [],
   "source": [
    "# Predicting the Test set results\n",
    "y_pred = classifier.predict(X_test)"
   ]
  },
  {
   "cell_type": "code",
   "execution_count": 46,
   "metadata": {},
   "outputs": [],
   "source": [
    "\n",
    "# Making the confusion Matrix\n",
    "from sklearn.metrics import confusion_matrix\n",
    "Naive_Bayesian_cm = confusion_matrix(y_test, y_pred)\n"
   ]
  },
  {
   "cell_type": "code",
   "execution_count": 47,
   "metadata": {},
   "outputs": [
    {
     "data": {
      "text/plain": [
       "array([[47,  1],\n",
       "       [36,  2]], dtype=int64)"
      ]
     },
     "execution_count": 47,
     "metadata": {},
     "output_type": "execute_result"
    }
   ],
   "source": [
    "Naive_Bayesian_cm"
   ]
  },
  {
   "cell_type": "markdown",
   "metadata": {},
   "source": [
    "# Fitting SVM classifier to the Training set"
   ]
  },
  {
   "cell_type": "code",
   "execution_count": 48,
   "metadata": {},
   "outputs": [
    {
     "data": {
      "text/plain": [
       "SVC(C=1.0, cache_size=200, class_weight=None, coef0=0.0,\n",
       "    decision_function_shape='ovr', degree=3, gamma='auto_deprecated',\n",
       "    kernel='linear', max_iter=-1, probability=False, random_state=0,\n",
       "    shrinking=True, tol=0.001, verbose=False)"
      ]
     },
     "execution_count": 48,
     "metadata": {},
     "output_type": "execute_result"
    }
   ],
   "source": [
    "\n",
    "from sklearn.svm import SVC\n",
    "classifier = SVC(kernel='linear', random_state=0)\n",
    "classifier.fit(X_train, y_train)"
   ]
  },
  {
   "cell_type": "code",
   "execution_count": 49,
   "metadata": {},
   "outputs": [],
   "source": [
    "\n",
    "# Predicting the Test set results\n",
    "y_pred = classifier.predict(X_test)\n"
   ]
  },
  {
   "cell_type": "code",
   "execution_count": 50,
   "metadata": {},
   "outputs": [],
   "source": [
    "\n",
    "# Making the confusion Matrix\n",
    "from sklearn.metrics import confusion_matrix\n",
    "SVM_classifier_cm= confusion_matrix(y_test, y_pred)"
   ]
  },
  {
   "cell_type": "code",
   "execution_count": 51,
   "metadata": {},
   "outputs": [
    {
     "data": {
      "text/plain": [
       "array([[41,  7],\n",
       "       [12, 26]], dtype=int64)"
      ]
     },
     "execution_count": 51,
     "metadata": {},
     "output_type": "execute_result"
    }
   ],
   "source": [
    "SVM_classifier_cm"
   ]
  },
  {
   "cell_type": "markdown",
   "metadata": {},
   "source": [
    "# Fitting Decision tree classifier to the Training set"
   ]
  },
  {
   "cell_type": "code",
   "execution_count": 52,
   "metadata": {},
   "outputs": [
    {
     "data": {
      "text/plain": [
       "DecisionTreeClassifier(class_weight=None, criterion='entropy', max_depth=None,\n",
       "                       max_features=None, max_leaf_nodes=None,\n",
       "                       min_impurity_decrease=0.0, min_impurity_split=None,\n",
       "                       min_samples_leaf=1, min_samples_split=2,\n",
       "                       min_weight_fraction_leaf=0.0, presort=False,\n",
       "                       random_state=0, splitter='best')"
      ]
     },
     "execution_count": 52,
     "metadata": {},
     "output_type": "execute_result"
    }
   ],
   "source": [
    "\n",
    "from sklearn.tree import DecisionTreeClassifier\n",
    "classifier = DecisionTreeClassifier(criterion='entropy', random_state=0)\n",
    "classifier.fit(X_train, y_train)"
   ]
  },
  {
   "cell_type": "code",
   "execution_count": 53,
   "metadata": {},
   "outputs": [],
   "source": [
    "# Predicting the Test set results\n",
    "y_pred = classifier.predict(X_test)\n"
   ]
  },
  {
   "cell_type": "code",
   "execution_count": 54,
   "metadata": {},
   "outputs": [],
   "source": [
    "\n",
    "# Making the confusion Matrix\n",
    "from sklearn.metrics import confusion_matrix\n",
    "Decision_tree_cm = confusion_matrix(y_test, y_pred)"
   ]
  },
  {
   "cell_type": "code",
   "execution_count": 55,
   "metadata": {},
   "outputs": [
    {
     "data": {
      "text/plain": [
       "array([[44,  4],\n",
       "       [ 8, 30]], dtype=int64)"
      ]
     },
     "execution_count": 55,
     "metadata": {},
     "output_type": "execute_result"
    }
   ],
   "source": [
    "Decision_tree_cm"
   ]
  },
  {
   "cell_type": "markdown",
   "metadata": {},
   "source": [
    "# Fitting Random Forest classifier to the Training set"
   ]
  },
  {
   "cell_type": "code",
   "execution_count": 56,
   "metadata": {},
   "outputs": [
    {
     "data": {
      "text/plain": [
       "RandomForestClassifier(bootstrap=True, class_weight=None, criterion='entropy',\n",
       "                       max_depth=None, max_features='auto', max_leaf_nodes=None,\n",
       "                       min_impurity_decrease=0.0, min_impurity_split=None,\n",
       "                       min_samples_leaf=1, min_samples_split=2,\n",
       "                       min_weight_fraction_leaf=0.0, n_estimators=10,\n",
       "                       n_jobs=None, oob_score=False, random_state=0, verbose=0,\n",
       "                       warm_start=False)"
      ]
     },
     "execution_count": 56,
     "metadata": {},
     "output_type": "execute_result"
    }
   ],
   "source": [
    "from sklearn.ensemble import RandomForestClassifier\n",
    "classifier = RandomForestClassifier(n_estimators=10, criterion='entropy', random_state=0)\n",
    "classifier.fit(X_train, y_train)"
   ]
  },
  {
   "cell_type": "code",
   "execution_count": 57,
   "metadata": {},
   "outputs": [],
   "source": [
    "# Predicting the Test set results\n",
    "y_pred = classifier.predict(X_test)"
   ]
  },
  {
   "cell_type": "code",
   "execution_count": 58,
   "metadata": {},
   "outputs": [],
   "source": [
    "\n",
    "# Making the confusion Matrix\n",
    "from sklearn.metrics import confusion_matrix\n",
    "Random_forest_cm = confusion_matrix(y_test, y_pred)\n"
   ]
  },
  {
   "cell_type": "code",
   "execution_count": 59,
   "metadata": {},
   "outputs": [
    {
     "data": {
      "text/plain": [
       "array([[45,  3],\n",
       "       [10, 28]], dtype=int64)"
      ]
     },
     "execution_count": 59,
     "metadata": {},
     "output_type": "execute_result"
    }
   ],
   "source": [
    "Random_forest_cm"
   ]
  },
  {
   "cell_type": "markdown",
   "metadata": {},
   "source": [
    "# Fitting KNN classifier to the training set"
   ]
  },
  {
   "cell_type": "code",
   "execution_count": 60,
   "metadata": {},
   "outputs": [
    {
     "data": {
      "text/plain": [
       "KNeighborsClassifier(algorithm='auto', leaf_size=30, metric='minkowski',\n",
       "                     metric_params=None, n_jobs=None, n_neighbors=5, p=2,\n",
       "                     weights='uniform')"
      ]
     },
     "execution_count": 60,
     "metadata": {},
     "output_type": "execute_result"
    }
   ],
   "source": [
    "\n",
    "# Fitting classifier to the Training set\n",
    "from sklearn.neighbors import KNeighborsClassifier\n",
    "classifier = KNeighborsClassifier(n_neighbors=5, metric='minkowski', p=2)\n",
    "classifier.fit(X_train, y_train)"
   ]
  },
  {
   "cell_type": "code",
   "execution_count": 61,
   "metadata": {},
   "outputs": [],
   "source": [
    "# Predicting the Test set results\n",
    "y_pred = classifier.predict(X_test)"
   ]
  },
  {
   "cell_type": "code",
   "execution_count": 62,
   "metadata": {},
   "outputs": [],
   "source": [
    "# Making the confusion Matrix\n",
    "from sklearn.metrics import confusion_matrix\n",
    "knn_cm = confusion_matrix(y_test, y_pred)"
   ]
  },
  {
   "cell_type": "code",
   "execution_count": 63,
   "metadata": {},
   "outputs": [
    {
     "data": {
      "text/plain": [
       "array([[41,  7],\n",
       "       [16, 22]], dtype=int64)"
      ]
     },
     "execution_count": 63,
     "metadata": {},
     "output_type": "execute_result"
    }
   ],
   "source": [
    "knn_cm"
   ]
  },
  {
   "cell_type": "markdown",
   "metadata": {},
   "source": [
    "# Fitting Kernel svm classifier"
   ]
  },
  {
   "cell_type": "code",
   "execution_count": 64,
   "metadata": {},
   "outputs": [
    {
     "name": "stderr",
     "output_type": "stream",
     "text": [
      "C:\\Users\\91897\\Anaconda3\\lib\\site-packages\\sklearn\\svm\\base.py:193: FutureWarning: The default value of gamma will change from 'auto' to 'scale' in version 0.22 to account better for unscaled features. Set gamma explicitly to 'auto' or 'scale' to avoid this warning.\n",
      "  \"avoid this warning.\", FutureWarning)\n"
     ]
    },
    {
     "data": {
      "text/plain": [
       "SVC(C=1.0, cache_size=200, class_weight=None, coef0=0.0,\n",
       "    decision_function_shape='ovr', degree=3, gamma='auto_deprecated',\n",
       "    kernel='rbf', max_iter=-1, probability=False, random_state=0,\n",
       "    shrinking=True, tol=0.001, verbose=False)"
      ]
     },
     "execution_count": 64,
     "metadata": {},
     "output_type": "execute_result"
    }
   ],
   "source": [
    "# Fitting classifier to the Training set\n",
    "from sklearn.svm import SVC\n",
    "classifier = SVC(kernel='rbf', random_state=0)\n",
    "classifier.fit(X_train, y_train)"
   ]
  },
  {
   "cell_type": "code",
   "execution_count": 65,
   "metadata": {},
   "outputs": [],
   "source": [
    "# Predicting the Test set results\n",
    "y_pred = classifier.predict(X_test)"
   ]
  },
  {
   "cell_type": "code",
   "execution_count": 66,
   "metadata": {},
   "outputs": [],
   "source": [
    "# Making the confusion Matrix\n",
    "from sklearn.metrics import confusion_matrix\n",
    "Kernel_svm_cm = confusion_matrix(y_test, y_pred)"
   ]
  },
  {
   "cell_type": "code",
   "execution_count": 67,
   "metadata": {},
   "outputs": [
    {
     "data": {
      "text/plain": [
       "array([[48,  0],\n",
       "       [25, 13]], dtype=int64)"
      ]
     },
     "execution_count": 67,
     "metadata": {},
     "output_type": "execute_result"
    }
   ],
   "source": [
    "Kernel_svm_cm"
   ]
  },
  {
   "cell_type": "markdown",
   "metadata": {},
   "source": [
    "# Conclusion"
   ]
  },
  {
   "cell_type": "markdown",
   "metadata": {},
   "source": [
    "## Logistic regressor , Decision Tree classifier , Random Forest Clasifier\n",
    "\n",
    "Have good fit for this data set"
   ]
  },
  {
   "cell_type": "markdown",
   "metadata": {},
   "source": [
    "# ***Decision tree classifier is the best fit model for this problem.***"
   ]
  },
  {
   "cell_type": "markdown",
   "metadata": {},
   "source": [
    "### further improvements to this model \n",
    "* Adding paymentMethodId and encoding them into the model\n",
    "* Looking for the location based analysis"
   ]
  },
  {
   "cell_type": "code",
   "execution_count": null,
   "metadata": {},
   "outputs": [],
   "source": []
  }
 ],
 "metadata": {
  "kernelspec": {
   "display_name": "Python 3",
   "language": "python",
   "name": "python3"
  },
  "language_info": {
   "codemirror_mode": {
    "name": "ipython",
    "version": 3
   },
   "file_extension": ".py",
   "mimetype": "text/x-python",
   "name": "python",
   "nbconvert_exporter": "python",
   "pygments_lexer": "ipython3",
   "version": "3.7.4"
  }
 },
 "nbformat": 4,
 "nbformat_minor": 2
}
